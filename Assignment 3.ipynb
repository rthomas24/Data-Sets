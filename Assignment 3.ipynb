{
 "cells": [
  {
   "cell_type": "markdown",
   "metadata": {},
   "source": [
    "# Ryan Thomas, Jason Mullin"
   ]
  },
  {
   "cell_type": "markdown",
   "metadata": {},
   "source": [
    "# Assignment 3 "
   ]
  },
  {
   "cell_type": "markdown",
   "metadata": {},
   "source": [
    "On our second Data set, when making our Decision Tree Classifier, we put in the max_depth peramater and set it to 15, making the tree stop once it reaches a depth of 15. We also used the entropy criterion for both of the models. "
   ]
  },
  {
   "cell_type": "markdown",
   "metadata": {},
   "source": [
    "Overall as a group, I think we completed this project all putting in the same level of work. Besides the one time we worked on it inside of class, most of the project was completed remotely. Throughout the process, we had steady communication back and forth with one another. By creating a google document we were able to share relevant information if a problem arose. Our third member Steven joined the team late and because we were basically finished by the time he joined, he decided to do his own data set.\n"
   ]
  },
  {
   "cell_type": "code",
   "execution_count": 18,
   "metadata": {},
   "outputs": [],
   "source": [
    "import pandas as pd\n",
    "from sklearn import tree\n",
    "from treeviz import tree_print\n",
    "from sklearn.metrics import accuracy_score"
   ]
  },
  {
   "cell_type": "markdown",
   "metadata": {},
   "source": [
    "# The Tennis Data Set"
   ]
  },
  {
   "cell_type": "code",
   "execution_count": 19,
   "metadata": {},
   "outputs": [
    {
     "data": {
      "text/html": [
       "<div>\n",
       "<style scoped>\n",
       "    .dataframe tbody tr th:only-of-type {\n",
       "        vertical-align: middle;\n",
       "    }\n",
       "\n",
       "    .dataframe tbody tr th {\n",
       "        vertical-align: top;\n",
       "    }\n",
       "\n",
       "    .dataframe thead th {\n",
       "        text-align: right;\n",
       "    }\n",
       "</style>\n",
       "<table border=\"1\" class=\"dataframe\">\n",
       "  <thead>\n",
       "    <tr style=\"text-align: right;\">\n",
       "      <th></th>\n",
       "      <th>outlook_sunny</th>\n",
       "      <th>outlook_overcast</th>\n",
       "      <th>outlook_rainy</th>\n",
       "      <th>temperature</th>\n",
       "      <th>humidity</th>\n",
       "      <th>windy</th>\n",
       "      <th>play</th>\n",
       "    </tr>\n",
       "  </thead>\n",
       "  <tbody>\n",
       "    <tr>\n",
       "      <td>0</td>\n",
       "      <td>1</td>\n",
       "      <td>0</td>\n",
       "      <td>0</td>\n",
       "      <td>85</td>\n",
       "      <td>85</td>\n",
       "      <td>0</td>\n",
       "      <td>no</td>\n",
       "    </tr>\n",
       "    <tr>\n",
       "      <td>1</td>\n",
       "      <td>1</td>\n",
       "      <td>0</td>\n",
       "      <td>0</td>\n",
       "      <td>80</td>\n",
       "      <td>90</td>\n",
       "      <td>1</td>\n",
       "      <td>no</td>\n",
       "    </tr>\n",
       "    <tr>\n",
       "      <td>2</td>\n",
       "      <td>0</td>\n",
       "      <td>1</td>\n",
       "      <td>0</td>\n",
       "      <td>83</td>\n",
       "      <td>86</td>\n",
       "      <td>0</td>\n",
       "      <td>yes</td>\n",
       "    </tr>\n",
       "    <tr>\n",
       "      <td>3</td>\n",
       "      <td>0</td>\n",
       "      <td>0</td>\n",
       "      <td>1</td>\n",
       "      <td>70</td>\n",
       "      <td>96</td>\n",
       "      <td>0</td>\n",
       "      <td>yes</td>\n",
       "    </tr>\n",
       "    <tr>\n",
       "      <td>4</td>\n",
       "      <td>0</td>\n",
       "      <td>0</td>\n",
       "      <td>1</td>\n",
       "      <td>68</td>\n",
       "      <td>80</td>\n",
       "      <td>0</td>\n",
       "      <td>yes</td>\n",
       "    </tr>\n",
       "  </tbody>\n",
       "</table>\n",
       "</div>"
      ],
      "text/plain": [
       "   outlook_sunny  outlook_overcast  outlook_rainy  temperature  humidity  \\\n",
       "0              1                 0              0           85        85   \n",
       "1              1                 0              0           80        90   \n",
       "2              0                 1              0           83        86   \n",
       "3              0                 0              1           70        96   \n",
       "4              0                 0              1           68        80   \n",
       "\n",
       "   windy play  \n",
       "0      0   no  \n",
       "1      1   no  \n",
       "2      0  yes  \n",
       "3      0  yes  \n",
       "4      0  yes  "
      ]
     },
     "execution_count": 19,
     "metadata": {},
     "output_type": "execute_result"
    }
   ],
   "source": [
    "#Reads data set in\n",
    "tennis_df = pd.read_csv('tennis_numeric.csv')\n",
    "tennis_df.head()"
   ]
  },
  {
   "cell_type": "code",
   "execution_count": 20,
   "metadata": {
    "scrolled": true
   },
   "outputs": [
    {
     "data": {
      "text/html": [
       "<div>\n",
       "<style scoped>\n",
       "    .dataframe tbody tr th:only-of-type {\n",
       "        vertical-align: middle;\n",
       "    }\n",
       "\n",
       "    .dataframe tbody tr th {\n",
       "        vertical-align: top;\n",
       "    }\n",
       "\n",
       "    .dataframe thead th {\n",
       "        text-align: right;\n",
       "    }\n",
       "</style>\n",
       "<table border=\"1\" class=\"dataframe\">\n",
       "  <thead>\n",
       "    <tr style=\"text-align: right;\">\n",
       "      <th></th>\n",
       "      <th>outlook_sunny</th>\n",
       "      <th>outlook_overcast</th>\n",
       "      <th>outlook_rainy</th>\n",
       "      <th>temperature</th>\n",
       "      <th>humidity</th>\n",
       "      <th>windy</th>\n",
       "    </tr>\n",
       "  </thead>\n",
       "  <tbody>\n",
       "    <tr>\n",
       "      <td>0</td>\n",
       "      <td>1</td>\n",
       "      <td>0</td>\n",
       "      <td>0</td>\n",
       "      <td>85</td>\n",
       "      <td>85</td>\n",
       "      <td>0</td>\n",
       "    </tr>\n",
       "    <tr>\n",
       "      <td>1</td>\n",
       "      <td>1</td>\n",
       "      <td>0</td>\n",
       "      <td>0</td>\n",
       "      <td>80</td>\n",
       "      <td>90</td>\n",
       "      <td>1</td>\n",
       "    </tr>\n",
       "    <tr>\n",
       "      <td>2</td>\n",
       "      <td>0</td>\n",
       "      <td>1</td>\n",
       "      <td>0</td>\n",
       "      <td>83</td>\n",
       "      <td>86</td>\n",
       "      <td>0</td>\n",
       "    </tr>\n",
       "    <tr>\n",
       "      <td>3</td>\n",
       "      <td>0</td>\n",
       "      <td>0</td>\n",
       "      <td>1</td>\n",
       "      <td>70</td>\n",
       "      <td>96</td>\n",
       "      <td>0</td>\n",
       "    </tr>\n",
       "    <tr>\n",
       "      <td>4</td>\n",
       "      <td>0</td>\n",
       "      <td>0</td>\n",
       "      <td>1</td>\n",
       "      <td>68</td>\n",
       "      <td>80</td>\n",
       "      <td>0</td>\n",
       "    </tr>\n",
       "  </tbody>\n",
       "</table>\n",
       "</div>"
      ],
      "text/plain": [
       "   outlook_sunny  outlook_overcast  outlook_rainy  temperature  humidity  \\\n",
       "0              1                 0              0           85        85   \n",
       "1              1                 0              0           80        90   \n",
       "2              0                 1              0           83        86   \n",
       "3              0                 0              1           70        96   \n",
       "4              0                 0              1           68        80   \n",
       "\n",
       "   windy  \n",
       "0      0  \n",
       "1      1  \n",
       "2      0  \n",
       "3      0  \n",
       "4      0  "
      ]
     },
     "execution_count": 20,
     "metadata": {},
     "output_type": "execute_result"
    }
   ],
   "source": [
    "#Dropping the play category\n",
    "features_df = tennis_df.drop(['play'], axis = 1)\n",
    "features_df.head()"
   ]
  },
  {
   "cell_type": "code",
   "execution_count": 21,
   "metadata": {},
   "outputs": [
    {
     "data": {
      "text/html": [
       "<div>\n",
       "<style scoped>\n",
       "    .dataframe tbody tr th:only-of-type {\n",
       "        vertical-align: middle;\n",
       "    }\n",
       "\n",
       "    .dataframe tbody tr th {\n",
       "        vertical-align: top;\n",
       "    }\n",
       "\n",
       "    .dataframe thead th {\n",
       "        text-align: right;\n",
       "    }\n",
       "</style>\n",
       "<table border=\"1\" class=\"dataframe\">\n",
       "  <thead>\n",
       "    <tr style=\"text-align: right;\">\n",
       "      <th></th>\n",
       "      <th>play</th>\n",
       "    </tr>\n",
       "  </thead>\n",
       "  <tbody>\n",
       "    <tr>\n",
       "      <td>0</td>\n",
       "      <td>no</td>\n",
       "    </tr>\n",
       "    <tr>\n",
       "      <td>1</td>\n",
       "      <td>no</td>\n",
       "    </tr>\n",
       "    <tr>\n",
       "      <td>2</td>\n",
       "      <td>yes</td>\n",
       "    </tr>\n",
       "    <tr>\n",
       "      <td>3</td>\n",
       "      <td>yes</td>\n",
       "    </tr>\n",
       "    <tr>\n",
       "      <td>4</td>\n",
       "      <td>yes</td>\n",
       "    </tr>\n",
       "  </tbody>\n",
       "</table>\n",
       "</div>"
      ],
      "text/plain": [
       "  play\n",
       "0   no\n",
       "1   no\n",
       "2  yes\n",
       "3  yes\n",
       "4  yes"
      ]
     },
     "execution_count": 21,
     "metadata": {},
     "output_type": "execute_result"
    }
   ],
   "source": [
    "#Creates a dataframe of the targetted label\n",
    "target = pd.DataFrame(tennis_df['play'])\n",
    "target.head()"
   ]
  },
  {
   "cell_type": "code",
   "execution_count": 22,
   "metadata": {},
   "outputs": [],
   "source": [
    "#Creates a desicion tree model with \"entropy\"\n",
    "tennistree = tree.DecisionTreeClassifier(criterion = 'entropy')"
   ]
  },
  {
   "cell_type": "code",
   "execution_count": 23,
   "metadata": {},
   "outputs": [
    {
     "data": {
      "text/plain": [
       "DecisionTreeClassifier(class_weight=None, criterion='entropy', max_depth=None,\n",
       "                       max_features=None, max_leaf_nodes=None,\n",
       "                       min_impurity_decrease=0.0, min_impurity_split=None,\n",
       "                       min_samples_leaf=1, min_samples_split=2,\n",
       "                       min_weight_fraction_leaf=0.0, presort=False,\n",
       "                       random_state=None, splitter='best')"
      ]
     },
     "execution_count": 23,
     "metadata": {},
     "output_type": "execute_result"
    }
   ],
   "source": [
    "tennistree.fit(features_df, target)"
   ]
  },
  {
   "cell_type": "code",
   "execution_count": 24,
   "metadata": {},
   "outputs": [
    {
     "name": "stdout",
     "output_type": "stream",
     "text": [
      "if outlook_overcast =< 0.5: \n",
      "  |then if humidity =< 82.5: \n",
      "  |  |then if temperature =< 66.5: \n",
      "  |  |  |then no\n",
      "  |  |  |else yes\n",
      "  |  |else if humidity =< 95.5: \n",
      "  |  |  |then no\n",
      "  |  |  |else yes\n",
      "  |else yes\n",
      "<------->\n",
      "Tree Depth:  3\n"
     ]
    }
   ],
   "source": [
    "#Creates a data tree to visualize\n",
    "tree_print(tennistree, features_df)"
   ]
  },
  {
   "cell_type": "code",
   "execution_count": 25,
   "metadata": {},
   "outputs": [
    {
     "data": {
      "text/plain": [
       "True"
      ]
     },
     "execution_count": 25,
     "metadata": {},
     "output_type": "execute_result"
    }
   ],
   "source": [
    "#Creating a data frame of the prediction\n",
    "result = tennistree.predict(features_df)\n",
    "result_df = pd.DataFrame(result)\n",
    "result_df.columns = ['play']\n",
    "result_df.equals(target)"
   ]
  },
  {
   "cell_type": "code",
   "execution_count": 26,
   "metadata": {},
   "outputs": [
    {
     "name": "stdout",
     "output_type": "stream",
     "text": [
      "The Accuracy of the tennis data set: 1.0\n"
     ]
    }
   ],
   "source": [
    "#Printing the accuarcy score \n",
    "print(\"The Accuracy of the tennis data set: {}\".format(accuracy_score(target,result)))"
   ]
  },
  {
   "cell_type": "markdown",
   "metadata": {},
   "source": [
    "# The Channing Dataset"
   ]
  },
  {
   "cell_type": "code",
   "execution_count": 27,
   "metadata": {},
   "outputs": [
    {
     "data": {
      "text/html": [
       "<div>\n",
       "<style scoped>\n",
       "    .dataframe tbody tr th:only-of-type {\n",
       "        vertical-align: middle;\n",
       "    }\n",
       "\n",
       "    .dataframe tbody tr th {\n",
       "        vertical-align: top;\n",
       "    }\n",
       "\n",
       "    .dataframe thead th {\n",
       "        text-align: right;\n",
       "    }\n",
       "</style>\n",
       "<table border=\"1\" class=\"dataframe\">\n",
       "  <thead>\n",
       "    <tr style=\"text-align: right;\">\n",
       "      <th></th>\n",
       "      <th>Unnamed: 0</th>\n",
       "      <th>sex</th>\n",
       "      <th>entry</th>\n",
       "      <th>exit</th>\n",
       "      <th>time</th>\n",
       "      <th>cens</th>\n",
       "    </tr>\n",
       "  </thead>\n",
       "  <tbody>\n",
       "    <tr>\n",
       "      <td>0</td>\n",
       "      <td>1</td>\n",
       "      <td>Male</td>\n",
       "      <td>782</td>\n",
       "      <td>909</td>\n",
       "      <td>127</td>\n",
       "      <td>1</td>\n",
       "    </tr>\n",
       "    <tr>\n",
       "      <td>1</td>\n",
       "      <td>2</td>\n",
       "      <td>Male</td>\n",
       "      <td>1020</td>\n",
       "      <td>1128</td>\n",
       "      <td>108</td>\n",
       "      <td>1</td>\n",
       "    </tr>\n",
       "    <tr>\n",
       "      <td>2</td>\n",
       "      <td>3</td>\n",
       "      <td>Male</td>\n",
       "      <td>856</td>\n",
       "      <td>969</td>\n",
       "      <td>113</td>\n",
       "      <td>1</td>\n",
       "    </tr>\n",
       "    <tr>\n",
       "      <td>3</td>\n",
       "      <td>4</td>\n",
       "      <td>Male</td>\n",
       "      <td>915</td>\n",
       "      <td>957</td>\n",
       "      <td>42</td>\n",
       "      <td>1</td>\n",
       "    </tr>\n",
       "    <tr>\n",
       "      <td>4</td>\n",
       "      <td>5</td>\n",
       "      <td>Male</td>\n",
       "      <td>863</td>\n",
       "      <td>983</td>\n",
       "      <td>120</td>\n",
       "      <td>1</td>\n",
       "    </tr>\n",
       "  </tbody>\n",
       "</table>\n",
       "</div>"
      ],
      "text/plain": [
       "   Unnamed: 0   sex  entry  exit  time  cens\n",
       "0           1  Male    782   909   127     1\n",
       "1           2  Male   1020  1128   108     1\n",
       "2           3  Male    856   969   113     1\n",
       "3           4  Male    915   957    42     1\n",
       "4           5  Male    863   983   120     1"
      ]
     },
     "execution_count": 27,
     "metadata": {},
     "output_type": "execute_result"
    }
   ],
   "source": [
    "#Reading in the new data set and checking the first 5 rows\n",
    "channing = pd.read_csv(\"channing.csv\")\n",
    "channing.head()"
   ]
  },
  {
   "cell_type": "code",
   "execution_count": 28,
   "metadata": {},
   "outputs": [
    {
     "data": {
      "text/html": [
       "<div>\n",
       "<style scoped>\n",
       "    .dataframe tbody tr th:only-of-type {\n",
       "        vertical-align: middle;\n",
       "    }\n",
       "\n",
       "    .dataframe tbody tr th {\n",
       "        vertical-align: top;\n",
       "    }\n",
       "\n",
       "    .dataframe thead th {\n",
       "        text-align: right;\n",
       "    }\n",
       "</style>\n",
       "<table border=\"1\" class=\"dataframe\">\n",
       "  <thead>\n",
       "    <tr style=\"text-align: right;\">\n",
       "      <th></th>\n",
       "      <th>entry</th>\n",
       "      <th>exit</th>\n",
       "      <th>time</th>\n",
       "      <th>cens</th>\n",
       "    </tr>\n",
       "  </thead>\n",
       "  <tbody>\n",
       "    <tr>\n",
       "      <td>0</td>\n",
       "      <td>782</td>\n",
       "      <td>909</td>\n",
       "      <td>127</td>\n",
       "      <td>1</td>\n",
       "    </tr>\n",
       "    <tr>\n",
       "      <td>1</td>\n",
       "      <td>1020</td>\n",
       "      <td>1128</td>\n",
       "      <td>108</td>\n",
       "      <td>1</td>\n",
       "    </tr>\n",
       "    <tr>\n",
       "      <td>2</td>\n",
       "      <td>856</td>\n",
       "      <td>969</td>\n",
       "      <td>113</td>\n",
       "      <td>1</td>\n",
       "    </tr>\n",
       "    <tr>\n",
       "      <td>3</td>\n",
       "      <td>915</td>\n",
       "      <td>957</td>\n",
       "      <td>42</td>\n",
       "      <td>1</td>\n",
       "    </tr>\n",
       "    <tr>\n",
       "      <td>4</td>\n",
       "      <td>863</td>\n",
       "      <td>983</td>\n",
       "      <td>120</td>\n",
       "      <td>1</td>\n",
       "    </tr>\n",
       "  </tbody>\n",
       "</table>\n",
       "</div>"
      ],
      "text/plain": [
       "   entry  exit  time  cens\n",
       "0    782   909   127     1\n",
       "1   1020  1128   108     1\n",
       "2    856   969   113     1\n",
       "3    915   957    42     1\n",
       "4    863   983   120     1"
      ]
     },
     "execution_count": 28,
     "metadata": {},
     "output_type": "execute_result"
    }
   ],
   "source": [
    "#Dropping the two columns that are non-numeric\n",
    "chan_features = channing.drop([\"sex\",\"Unnamed: 0\"], axis = 1)\n",
    "chan_features.head()"
   ]
  },
  {
   "cell_type": "code",
   "execution_count": 29,
   "metadata": {},
   "outputs": [
    {
     "data": {
      "text/html": [
       "<div>\n",
       "<style scoped>\n",
       "    .dataframe tbody tr th:only-of-type {\n",
       "        vertical-align: middle;\n",
       "    }\n",
       "\n",
       "    .dataframe tbody tr th {\n",
       "        vertical-align: top;\n",
       "    }\n",
       "\n",
       "    .dataframe thead th {\n",
       "        text-align: right;\n",
       "    }\n",
       "</style>\n",
       "<table border=\"1\" class=\"dataframe\">\n",
       "  <thead>\n",
       "    <tr style=\"text-align: right;\">\n",
       "      <th></th>\n",
       "      <th>sex</th>\n",
       "    </tr>\n",
       "  </thead>\n",
       "  <tbody>\n",
       "    <tr>\n",
       "      <td>0</td>\n",
       "      <td>Male</td>\n",
       "    </tr>\n",
       "    <tr>\n",
       "      <td>1</td>\n",
       "      <td>Male</td>\n",
       "    </tr>\n",
       "    <tr>\n",
       "      <td>2</td>\n",
       "      <td>Male</td>\n",
       "    </tr>\n",
       "    <tr>\n",
       "      <td>3</td>\n",
       "      <td>Male</td>\n",
       "    </tr>\n",
       "    <tr>\n",
       "      <td>4</td>\n",
       "      <td>Male</td>\n",
       "    </tr>\n",
       "  </tbody>\n",
       "</table>\n",
       "</div>"
      ],
      "text/plain": [
       "    sex\n",
       "0  Male\n",
       "1  Male\n",
       "2  Male\n",
       "3  Male\n",
       "4  Male"
      ]
     },
     "execution_count": 29,
     "metadata": {},
     "output_type": "execute_result"
    }
   ],
   "source": [
    "#Creating a data frame of the dropped column\n",
    "chan_target = pd.DataFrame(channing[\"sex\"])\n",
    "chan_target.head()"
   ]
  },
  {
   "cell_type": "code",
   "execution_count": 30,
   "metadata": {},
   "outputs": [
    {
     "name": "stdout",
     "output_type": "stream",
     "text": [
      "if entry =< 952.0: \n",
      "  |then if cens =< 0.5: \n",
      "  |  |then if entry =< 805.5: \n",
      "  |  |  |then Female\n",
      "  |  |  |else if entry =< 939.5: \n",
      "  |  |  |  |then if entry =< 935.5: \n",
      "  |  |  |  |  |then if entry =< 926.5: \n",
      "  |  |  |  |  |  |then if entry =< 806.5: \n",
      "  |  |  |  |  |  |  |then Male\n",
      "  |  |  |  |  |  |  |else if entry =< 816.0: \n",
      "  |  |  |  |  |  |  |  |then Female\n",
      "  |  |  |  |  |  |  |  |else if entry =< 817.5: \n",
      "  |  |  |  |  |  |  |  |  |then Male\n",
      "  |  |  |  |  |  |  |  |  |else if exit =< 863.5: \n",
      "  |  |  |  |  |  |  |  |  |  |then Female\n",
      "  |  |  |  |  |  |  |  |  |  |else if exit =< 868.0: \n",
      "  |  |  |  |  |  |  |  |  |  |  |then Male\n",
      "  |  |  |  |  |  |  |  |  |  |  |else if exit =< 1031.5: \n",
      "  |  |  |  |  |  |  |  |  |  |  |  |then if exit =< 1011.5: \n",
      "  |  |  |  |  |  |  |  |  |  |  |  |  |then if exit =< 974.0: \n",
      "  |  |  |  |  |  |  |  |  |  |  |  |  |  |then if exit =< 934.5: \n",
      "  |  |  |  |  |  |  |  |  |  |  |  |  |  |  |then Female\n",
      "  |  |  |  |  |  |  |  |  |  |  |  |  |  |  |else Female\n",
      "  |  |  |  |  |  |  |  |  |  |  |  |  |  |else if exit =< 983.5: \n",
      "  |  |  |  |  |  |  |  |  |  |  |  |  |  |  |then Female\n",
      "  |  |  |  |  |  |  |  |  |  |  |  |  |  |  |else Female\n",
      "  |  |  |  |  |  |  |  |  |  |  |  |  |else if entry =< 880.5: \n",
      "  |  |  |  |  |  |  |  |  |  |  |  |  |  |then if exit =< 1015.5: \n",
      "  |  |  |  |  |  |  |  |  |  |  |  |  |  |  |then Female\n",
      "  |  |  |  |  |  |  |  |  |  |  |  |  |  |  |else Male\n",
      "  |  |  |  |  |  |  |  |  |  |  |  |  |  |else if exit =< 1022.5: \n",
      "  |  |  |  |  |  |  |  |  |  |  |  |  |  |  |then Female\n",
      "  |  |  |  |  |  |  |  |  |  |  |  |  |  |  |else Female\n",
      "  |  |  |  |  |  |  |  |  |  |  |  |else if entry =< 922.5: \n",
      "  |  |  |  |  |  |  |  |  |  |  |  |  |then Female\n",
      "  |  |  |  |  |  |  |  |  |  |  |  |  |else if exit =< 1061.0: \n",
      "  |  |  |  |  |  |  |  |  |  |  |  |  |  |then Male\n",
      "  |  |  |  |  |  |  |  |  |  |  |  |  |  |else Female\n",
      "  |  |  |  |  |  |else Female\n",
      "  |  |  |  |  |else if time =< 131.5: \n",
      "  |  |  |  |  |  |then Male\n",
      "  |  |  |  |  |  |else Female\n",
      "  |  |  |  |else Female\n",
      "  |  |else if exit =< 792.5: \n",
      "  |  |  |then Male\n",
      "  |  |  |else if exit =< 868.5: \n",
      "  |  |  |  |then Female\n",
      "  |  |  |  |else if entry =< 856.5: \n",
      "  |  |  |  |  |then if entry =< 855.0: \n",
      "  |  |  |  |  |  |then if exit =< 910.0: \n",
      "  |  |  |  |  |  |  |then if exit =< 879.5: \n",
      "  |  |  |  |  |  |  |  |then Male\n",
      "  |  |  |  |  |  |  |  |else if time =< 69.5: \n",
      "  |  |  |  |  |  |  |  |  |then if exit =< 901.5: \n",
      "  |  |  |  |  |  |  |  |  |  |then if exit =< 888.0: \n",
      "  |  |  |  |  |  |  |  |  |  |  |then Female\n",
      "  |  |  |  |  |  |  |  |  |  |  |else if time =< 65.0: \n",
      "  |  |  |  |  |  |  |  |  |  |  |  |then Male\n",
      "  |  |  |  |  |  |  |  |  |  |  |  |else Female\n",
      "  |  |  |  |  |  |  |  |  |  |else Female\n",
      "  |  |  |  |  |  |  |  |  |else Male\n",
      "  |  |  |  |  |  |  |else if time =< 129.5: \n",
      "  |  |  |  |  |  |  |  |then if time =< 109.5: \n",
      "  |  |  |  |  |  |  |  |  |then if exit =< 942.5: \n",
      "  |  |  |  |  |  |  |  |  |  |then Female\n",
      "  |  |  |  |  |  |  |  |  |  |else Male\n",
      "  |  |  |  |  |  |  |  |  |else Female\n",
      "  |  |  |  |  |  |  |  |else Male\n",
      "  |  |  |  |  |  |else Male\n",
      "  |  |  |  |  |else if exit =< 1024.0: \n",
      "  |  |  |  |  |  |then if exit =< 993.5: \n",
      "  |  |  |  |  |  |  |then if exit =< 992.0: \n",
      "  |  |  |  |  |  |  |  |then if exit =< 872.5: \n",
      "  |  |  |  |  |  |  |  |  |then Male\n",
      "  |  |  |  |  |  |  |  |  |else if time =< 32.0: \n",
      "  |  |  |  |  |  |  |  |  |  |then Female\n",
      "  |  |  |  |  |  |  |  |  |  |else if time =< 36.5: \n",
      "  |  |  |  |  |  |  |  |  |  |  |then Male\n",
      "  |  |  |  |  |  |  |  |  |  |  |else if time =< 116.0: \n",
      "  |  |  |  |  |  |  |  |  |  |  |  |then if exit =< 967.5: \n",
      "  |  |  |  |  |  |  |  |  |  |  |  |  |then if time =< 43.0: \n",
      "  |  |  |  |  |  |  |  |  |  |  |  |  |  |then Male\n",
      "  |  |  |  |  |  |  |  |  |  |  |  |  |  |else if entry =< 903.0: \n",
      "  |  |  |  |  |  |  |  |  |  |  |  |  |  |  |then Female\n",
      "  |  |  |  |  |  |  |  |  |  |  |  |  |  |  |else Male\n",
      "  |  |  |  |  |  |  |  |  |  |  |  |  |else Female\n",
      "  |  |  |  |  |  |  |  |  |  |  |  |else Male\n",
      "  |  |  |  |  |  |  |  |else Male\n",
      "  |  |  |  |  |  |  |else if exit =< 1011.5: \n",
      "  |  |  |  |  |  |  |  |then Female\n",
      "  |  |  |  |  |  |  |  |else if exit =< 1013.0: \n",
      "  |  |  |  |  |  |  |  |  |then if time =< 115.5: \n",
      "  |  |  |  |  |  |  |  |  |  |then Male\n",
      "  |  |  |  |  |  |  |  |  |  |else Female\n",
      "  |  |  |  |  |  |  |  |  |else Female\n",
      "  |  |  |  |  |  |else if time =< 116.5: \n",
      "  |  |  |  |  |  |  |then if entry =< 939.5: \n",
      "  |  |  |  |  |  |  |  |then if time =< 109.0: \n",
      "  |  |  |  |  |  |  |  |  |then Female\n",
      "  |  |  |  |  |  |  |  |  |else Male\n",
      "  |  |  |  |  |  |  |  |else Male\n",
      "  |  |  |  |  |  |  |else Female\n",
      "  |else if exit =< 1162.5: \n",
      "  |  |then if entry =< 1035.0: \n",
      "  |  |  |then if entry =< 953.5: \n",
      "  |  |  |  |then Male\n",
      "  |  |  |  |else if exit =< 1150.0: \n",
      "  |  |  |  |  |then if exit =< 964.5: \n",
      "  |  |  |  |  |  |then Female\n",
      "  |  |  |  |  |  |else if time =< 5.5: \n",
      "  |  |  |  |  |  |  |then Male\n",
      "  |  |  |  |  |  |  |else if time =< 12.5: \n",
      "  |  |  |  |  |  |  |  |then Female\n",
      "  |  |  |  |  |  |  |  |else if exit =< 1009.5: \n",
      "  |  |  |  |  |  |  |  |  |then if exit =< 996.5: \n",
      "  |  |  |  |  |  |  |  |  |  |then if exit =< 986.5: \n",
      "  |  |  |  |  |  |  |  |  |  |  |then if time =< 17.5: \n",
      "  |  |  |  |  |  |  |  |  |  |  |  |then if time =< 14.5: \n",
      "  |  |  |  |  |  |  |  |  |  |  |  |  |then Male\n",
      "  |  |  |  |  |  |  |  |  |  |  |  |  |else Female\n",
      "  |  |  |  |  |  |  |  |  |  |  |  |else Male\n",
      "  |  |  |  |  |  |  |  |  |  |  |else Female\n",
      "  |  |  |  |  |  |  |  |  |  |else if time =< 19.5: \n",
      "  |  |  |  |  |  |  |  |  |  |  |then Female\n",
      "  |  |  |  |  |  |  |  |  |  |  |else if time =< 46.5: \n",
      "  |  |  |  |  |  |  |  |  |  |  |  |then Male\n",
      "  |  |  |  |  |  |  |  |  |  |  |  |else Female\n",
      "  |  |  |  |  |  |  |  |  |else if exit =< 1017.0: \n",
      "  |  |  |  |  |  |  |  |  |  |then Female\n",
      "  |  |  |  |  |  |  |  |  |  |else if exit =< 1129.5: \n",
      "  |  |  |  |  |  |  |  |  |  |  |then if exit =< 1125.0: \n",
      "  |  |  |  |  |  |  |  |  |  |  |  |then if time =< 29.5: \n",
      "  |  |  |  |  |  |  |  |  |  |  |  |  |then Female\n",
      "  |  |  |  |  |  |  |  |  |  |  |  |  |else if time =< 32.5: \n",
      "  |  |  |  |  |  |  |  |  |  |  |  |  |  |then Male\n",
      "  |  |  |  |  |  |  |  |  |  |  |  |  |  |else if entry =< 1022.5: \n",
      "  |  |  |  |  |  |  |  |  |  |  |  |  |  |  |then Female\n",
      "  |  |  |  |  |  |  |  |  |  |  |  |  |  |  |else Female\n",
      "  |  |  |  |  |  |  |  |  |  |  |  |else Male\n",
      "  |  |  |  |  |  |  |  |  |  |  |else Female\n",
      "  |  |  |  |  |else Male\n",
      "  |  |  |else if time =< 40.5: \n",
      "  |  |  |  |then if exit =< 1043.5: \n",
      "  |  |  |  |  |then Female\n",
      "  |  |  |  |  |else Male\n",
      "  |  |  |  |else if exit =< 1135.5: \n",
      "  |  |  |  |  |then Female\n",
      "  |  |  |  |  |else if exit =< 1145.5: \n",
      "  |  |  |  |  |  |then Male\n",
      "  |  |  |  |  |  |else Female\n",
      "  |  |else Female\n",
      "<------------------------------------------->\n",
      "Tree Depth:  15\n"
     ]
    }
   ],
   "source": [
    "#Printing the tree with \"entropy\" and with a max depth of 15 for the tree\n",
    "chan_tree = tree.DecisionTreeClassifier(criterion = \"entropy\", max_depth = 15)\n",
    "chan_tree.fit(chan_features,chan_target)\n",
    "tree_print(chan_tree, chan_features)"
   ]
  },
  {
   "cell_type": "code",
   "execution_count": 31,
   "metadata": {},
   "outputs": [
    {
     "data": {
      "text/plain": [
       "False"
      ]
     },
     "execution_count": 31,
     "metadata": {},
     "output_type": "execute_result"
    }
   ],
   "source": [
    "#Making a date frame of the prediction\n",
    "chan_result = chan_tree.predict(chan_features)\n",
    "chan_result_df = pd.DataFrame(chan_result)\n",
    "chan_result_df.columns = ['sex']\n",
    "chan_result_df.equals(chan_target)"
   ]
  },
  {
   "cell_type": "code",
   "execution_count": 32,
   "metadata": {},
   "outputs": [
    {
     "name": "stdout",
     "output_type": "stream",
     "text": [
      "The Accuracy of the channing data set: 0.9112554112554112\n"
     ]
    }
   ],
   "source": [
    "#Printing the accuracy score\n",
    "print(\"The Accuracy of the channing data set: {}\".format(accuracy_score(chan_target,chan_result)))"
   ]
  },
  {
   "cell_type": "markdown",
   "metadata": {},
   "source": [
    "Our accuracy is not too far away from a perfectly accuarate model with only about .09 off."
   ]
  }
 ],
 "metadata": {
  "kernelspec": {
   "display_name": "Python 3",
   "language": "python",
   "name": "python3"
  },
  "language_info": {
   "codemirror_mode": {
    "name": "ipython",
    "version": 3
   },
   "file_extension": ".py",
   "mimetype": "text/x-python",
   "name": "python",
   "nbconvert_exporter": "python",
   "pygments_lexer": "ipython3",
   "version": "3.7.4"
  }
 },
 "nbformat": 4,
 "nbformat_minor": 2
}
